{
 "cells": [
  {
   "cell_type": "code",
   "execution_count": 1,
   "metadata": {
    "collapsed": true
   },
   "outputs": [],
   "source": [
    "import urllib.request as urllib\n",
    "import json\n",
    "import datetime\n",
    "import csv\n",
    "import time\n",
    "import xml.etree.ElementTree as ET\n",
    "\n",
    "def request_until_succeed(url):\n",
    "    req = urllib.Request(url)\n",
    "    success = False\n",
    "    while success is False:\n",
    "        try: \n",
    "            response = urllib.urlopen(req)\n",
    "            if response.getcode() == 200:\n",
    "                success = True\n",
    "        except Exception as e:\n",
    "            print(e)\n",
    "            time.sleep(5)\n",
    "\n",
    "            print(\"Error for URL %s: %s\" % (url, datetime.datetime.now()))\n",
    "            print(\"Retrying.\")\n",
    "\n",
    "    return response.read()"
   ]
  },
  {
   "cell_type": "code",
   "execution_count": 2,
   "metadata": {
    "collapsed": false
   },
   "outputs": [],
   "source": [
    "def search_pubmed(year,Table,counter,diseases):\n",
    "    # print(disease)\n",
    "    base = \"http://eutils.ncbi.nlm.nih.gov/entrez/eutils/esearch.fcgi\"\n",
    "    #count = []\n",
    "    for disease in diseases: \n",
    "        #print(year)\n",
    "        \n",
    "        fields = \"/?db=pubmed&term=\"+disease+\"+AND+\"+str(year)+\"[pdat]\"\n",
    "        url = base + fields \n",
    "\n",
    "        # retrieve data\n",
    "        data = request_until_succeed(url)\n",
    "        root = ET.fromstring(data)\n",
    "        myTable[counter].append(root[0].text)\n",
    "        #print(root[0].text)\n",
    "        #count.append(int(root[0].text))\n",
    "\n",
    "        #print(data)\n",
    "    return counter"
   ]
  },
  {
   "cell_type": "code",
   "execution_count": 3,
   "metadata": {
    "collapsed": true
   },
   "outputs": [],
   "source": [
    "diseases = ['Acute+Lymphoblastic+Leukemia','Cancer+of+the+bladder','Duodenal+cancer', 'Gastric+cancer', 'Hemangioblastoma','Hepatocellular+carcinoma','Hodgkin+disease','Melanoma','NSCLC','Pituitary+adenoma']\n"
   ]
  },
  {
   "cell_type": "code",
   "execution_count": 4,
   "metadata": {
    "collapsed": true
   },
   "outputs": [],
   "source": [
    "def write_list_in_file(final, name):\n",
    "    with open(name, \"w\", newline=\"\",encoding=\"utf8\") as fp:\n",
    "        a = csv.writer(fp, delimiter=',')\n",
    "        a.writerows(final)"
   ]
  },
  {
   "cell_type": "code",
   "execution_count": 5,
   "metadata": {
    "collapsed": false
   },
   "outputs": [
    {
     "name": "stdout",
     "output_type": "stream",
     "text": [
      "[['Year', 'Acute+Lymphoblastic+Leukemia', 'Cancer+of+the+bladder', 'Duodenal+cancer', 'Gastric+cancer', 'Hemangioblastoma', 'Hepatocellular+carcinoma', 'Hodgkin+disease', 'Melanoma', 'NSCLC', 'Pituitary+adenoma']]\n"
     ]
    }
   ],
   "source": [
    "myTable = []\n",
    "myTable.append([])\n",
    "myTable[0].append(\"Year\")\n",
    "for disease in diseases:       \n",
    "    myTable[0].append(disease)\n",
    "print(myTable)\n",
    "    "
   ]
  },
  {
   "cell_type": "code",
   "execution_count": null,
   "metadata": {
    "collapsed": false
   },
   "outputs": [
    {
     "name": "stdout",
     "output_type": "stream",
     "text": [
      "processing 1900\n",
      "processing 1901\n",
      "processing 1902\n",
      "processing 1903\n",
      "processing 1904\n",
      "processing 1905\n",
      "processing 1906\n",
      "processing 1907\n",
      "processing 1908\n",
      "processing 1909\n",
      "processing 1910\n",
      "processing 1911\n",
      "processing 1912\n",
      "processing 1913\n",
      "processing 1914\n",
      "processing 1915\n",
      "processing 1916\n",
      "processing 1917\n",
      "processing 1918\n",
      "processing 1919\n",
      "processing 1920\n",
      "processing 1921\n",
      "processing 1922\n",
      "processing 1923\n",
      "processing 1924\n",
      "processing 1925\n",
      "processing 1926\n",
      "processing 1927\n",
      "processing 1928\n",
      "processing 1929\n",
      "processing 1930\n",
      "processing 1931\n",
      "processing 1932\n",
      "processing 1933\n",
      "processing 1934\n",
      "processing 1935\n",
      "processing 1936\n",
      "processing 1937\n",
      "processing 1938\n",
      "processing 1939\n",
      "processing 1940\n",
      "processing 1941\n",
      "processing 1942\n",
      "processing 1943\n",
      "processing 1944\n",
      "processing 1945\n",
      "processing 1946\n",
      "processing 1947\n",
      "processing 1948\n",
      "processing 1949\n",
      "processing 1950\n",
      "processing 1951\n",
      "processing 1952\n",
      "processing 1953\n",
      "processing 1954\n",
      "processing 1955\n",
      "processing 1956\n",
      "processing 1957\n",
      "processing 1958\n",
      "processing 1959\n",
      "processing 1960\n",
      "processing 1961\n",
      "processing 1962\n",
      "processing 1963\n",
      "processing 1964\n",
      "processing 1965\n",
      "processing 1966\n",
      "processing 1967\n",
      "processing 1968\n",
      "processing 1969\n",
      "processing 1970\n",
      "processing 1971\n",
      "processing 1972\n",
      "processing 1973\n",
      "processing 1974\n",
      "processing 1975\n",
      "processing 1976\n",
      "processing 1977\n",
      "processing 1978\n",
      "processing 1979\n",
      "processing 1980\n",
      "processing 1981\n",
      "processing 1982\n"
     ]
    }
   ],
   "source": [
    "total_cite=[]\n",
    "counter = 1\n",
    "for year in range(1900,2018):\n",
    "    print('processing '+str(year))\n",
    "    myTable.append([])\n",
    "    myTable[counter].append(str(year))\n",
    "    cite_no = search_pubmed(year,myTable,counter,diseases)\n",
    "    #total_cite.append(cite_no)\n",
    "    #print(cite_no)\n",
    "    counter += 1\n",
    "print(total_cite)"
   ]
  },
  {
   "cell_type": "code",
   "execution_count": null,
   "metadata": {
    "collapsed": false
   },
   "outputs": [],
   "source": [
    "#print(myTable)"
   ]
  },
  {
   "cell_type": "code",
   "execution_count": null,
   "metadata": {
    "collapsed": true
   },
   "outputs": [],
   "source": [
    "write_list_in_file(myTable,'pubmed_data.csv')"
   ]
  },
  {
   "cell_type": "code",
   "execution_count": null,
   "metadata": {
    "collapsed": true
   },
   "outputs": [],
   "source": []
  }
 ],
 "metadata": {
  "kernelspec": {
   "display_name": "Python 3",
   "language": "python",
   "name": "python3"
  },
  "language_info": {
   "codemirror_mode": {
    "name": "ipython",
    "version": 3
   },
   "file_extension": ".py",
   "mimetype": "text/x-python",
   "name": "python",
   "nbconvert_exporter": "python",
   "pygments_lexer": "ipython3",
   "version": "3.6.0"
  }
 },
 "nbformat": 4,
 "nbformat_minor": 2
}
